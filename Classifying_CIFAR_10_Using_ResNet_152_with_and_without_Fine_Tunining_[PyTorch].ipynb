{
  "cells": [
    {
      "cell_type": "markdown",
      "metadata": {
        "id": "kTLMJa9ynGB6"
      },
      "source": [
        "# Classifying CIFAR-10 Using ResNet-152 with and without Fine-Tunining"
      ]
    },
    {
      "cell_type": "markdown",
      "metadata": {
        "id": "0qcWP901iyO4"
      },
      "source": [
        "In this project, we will use ResNet-152 [1] to classify the CIFAR-10 dataset [2], both with and without fine-tuning the model.\n"
      ]
    },
    {
      "cell_type": "markdown",
      "metadata": {
        "id": "hKu_aWxkrguX"
      },
      "source": [
        "Deeper neural networks are more difficult to train. ResNets present a residual learning framework to ease the training of networks that were substantially deeper than those that had been used before the time of publication of \"Deep Residual Learning for Image Recognition\", which is 2015. ResNets explicitly reformulates the layers as learning residual functions with reference to the layer inputs, instead of learning unreferenced functions. ResNet-152 is one of these ResNets.\n",
        "\n",
        "ResNets were evaluated on the ImageNet dataset. ResNets had a depth of of upto 152 layers, which is 8 times deeper than VGG nets but having lower complexity. An ensemble of these ResNets achieves 3.57% error on the ImageNet test set. This result won the 1st place ont he ILSVRC 2015 classification task.\n",
        "\n",
        "The CIFAR-10 dataset consists of 60,000 32x32 color images in 10 classes, with 6,000 images per class. There are 50,000 training images and 10,000 test images.\n",
        "\n",
        "The dataset is divided into five training batches and one test batch, each with 10,000 images. The test batch contains exactly 1,000 randomly-selected images from each class. The training batches contain the remaining images in random order, but some training batches may contain more images from one class than another. Between them, the training batches contain exactly 5,000 images from each class."
      ]
    },
    {
      "cell_type": "markdown",
      "metadata": {
        "id": "AztffuFUryIV"
      },
      "source": [
        "We will start this project by loading the CIFAR-10 dataset into train, validation, and test DataLoaders. Then, we will instantiate ResNet-152 and freeze the entire model. We will modify the final layer of the model for the classification of CIFAR-10, and unfreeze only this layer. This will be followed by training the model for 30 epochs. This will also involve plotting the training and validation losses against the number of epochs, and the validation accuracy against the number of epochs. These plots will be inspected to identify the optimum number of epochs. The model will then be instatiated again and trained on CIFAR-10 for the optimal number of epochs before being evaluated on the test set.\n",
        "\n",
        "Once all this has been done, we will repeat the whole process again, only this time, we will leave all the layers in the model unfrozen to allow for fine-tuning."
      ]
    },
    {
      "cell_type": "markdown",
      "metadata": {
        "id": "PZLqZxuavxVG"
      },
      "source": [
        "## Importing the Required Packages"
      ]
    },
    {
      "cell_type": "markdown",
      "metadata": {
        "id": "OaoKNTXWnr17"
      },
      "source": [
        "We will first import the required packages."
      ]
    },
    {
      "cell_type": "code",
      "execution_count": null,
      "metadata": {
        "id": "J2RRScPhngFK"
      },
      "outputs": [],
      "source": [
        "import torch\n",
        "import torchvision\n",
        "from torchvision import models\n",
        "import torchvision.transforms as transforms\n",
        "import torch.nn as nn\n",
        "import torch.optim as optim\n",
        "from torch.utils.data import DataLoader, random_split, TensorDataset\n",
        "import matplotlib.pyplot as plt"
      ]
    },
    {
      "cell_type": "markdown",
      "metadata": {
        "id": "gS82b7GBv3FF"
      },
      "source": [
        "## Preparing the Data"
      ]
    },
    {
      "cell_type": "markdown",
      "metadata": {
        "id": "Q8LIOAjFpycf"
      },
      "source": [
        "We will define the transformations for the data."
      ]
    },
    {
      "cell_type": "code",
      "execution_count": null,
      "metadata": {
        "id": "D-KZdZ2OqSIN"
      },
      "outputs": [],
      "source": [
        "transforms = transforms.Compose([\n",
        "    transforms.Resize((224, 224)),\n",
        "    transforms.ToTensor(),\n",
        "    transforms.Normalize(mean=[0.485, 0.456, 0.406], std=[0.229, 0.224, 0.225])])"
      ]
    },
    {
      "cell_type": "markdown",
      "metadata": {
        "id": "B71P35YJohqg"
      },
      "source": [
        "We will load the data into variables."
      ]
    },
    {
      "cell_type": "code",
      "execution_count": null,
      "metadata": {
        "id": "tpWxVRMloJW0"
      },
      "outputs": [],
      "source": [
        "full_train_data = torchvision.datasets.CIFAR10(\n",
        "    root = \"/content/data\",\n",
        "    train = True,\n",
        "    download = True,\n",
        "    transform = transforms)\n",
        "\n",
        "test_data = torchvision.datasets.CIFAR10(\n",
        "    root = \"/content/data\",\n",
        "    train = False,\n",
        "    download = True,\n",
        "    transform = transforms)"
      ]
    },
    {
      "cell_type": "markdown",
      "metadata": {
        "id": "24nE_idNn9UE"
      },
      "source": [
        "Splitting the full training data into training and validation sets."
      ]
    },
    {
      "cell_type": "code",
      "execution_count": null,
      "metadata": {
        "id": "fMO8VvwBn81q"
      },
      "outputs": [],
      "source": [
        "train_size = int(0.8 * len(full_train_data))\n",
        "val_size = len(full_train_data) - train_size\n",
        "train_data, validation_data = random_split(full_train_data, [train_size, val_size])"
      ]
    },
    {
      "cell_type": "markdown",
      "metadata": {
        "id": "xMBja2N8ppEJ"
      },
      "source": [
        "Creating the DataLoaders."
      ]
    },
    {
      "cell_type": "code",
      "execution_count": null,
      "metadata": {
        "id": "eMFYetwRGzSv"
      },
      "outputs": [],
      "source": [
        "train_loader = DataLoader(train_data, batch_size=128, shuffle=True)\n",
        "validation_loader = DataLoader(validation_data, batch_size=128, shuffle=True)\n",
        "test_loader = DataLoader(test_data, batch_size=128, shuffle=False)"
      ]
    },
    {
      "cell_type": "markdown",
      "metadata": {
        "id": "iz9I4PyBv7hl"
      },
      "source": [
        "## Setting the Device"
      ]
    },
    {
      "cell_type": "markdown",
      "metadata": {
        "id": "E5X68mdHIWs8"
      },
      "source": [
        "We will set the device to the GPU if it is available, or the CPU if the GPU isn't available."
      ]
    },
    {
      "cell_type": "code",
      "execution_count": null,
      "metadata": {
        "id": "YimYnCYKIf4f"
      },
      "outputs": [],
      "source": [
        "device = torch.device(\"cuda\" if torch.cuda.is_available() else \"cpu\")"
      ]
    },
    {
      "cell_type": "markdown",
      "metadata": {
        "id": "AuzO61bPse10"
      },
      "source": [
        "## Classification without Fine-Tuning"
      ]
    },
    {
      "cell_type": "markdown",
      "metadata": {
        "id": "oLdd9m7RHIa1"
      },
      "source": [
        "We will load the pre-trained ResNet-152 model and freeze all its layers. Then, we will modify its final layer such that it suitable for classifying the CIFAR-10 data into 10 classes. We will then unfreeze only this final layer as it is completely untrained. We then move the model to the GPU. Finally, we instantiate the loss criterion and the optimizer."
      ]
    },
    {
      "cell_type": "code",
      "execution_count": null,
      "metadata": {
        "colab": {
          "base_uri": "https://localhost:8080/"
        },
        "collapsed": true,
        "id": "GRu-WZnFII83",
        "outputId": "19fa3b61-9a58-4317-ca42-ce1e1770f516"
      },
      "outputs": [
        {
          "name": "stderr",
          "output_type": "stream",
          "text": [
            "/usr/local/lib/python3.11/dist-packages/torchvision/models/_utils.py:208: UserWarning: The parameter 'pretrained' is deprecated since 0.13 and may be removed in the future, please use 'weights' instead.\n",
            "  warnings.warn(\n",
            "/usr/local/lib/python3.11/dist-packages/torchvision/models/_utils.py:223: UserWarning: Arguments other than a weight enum or `None` for 'weights' are deprecated since 0.13 and may be removed in the future. The current behavior is equivalent to passing `weights=ResNet152_Weights.IMAGENET1K_V1`. You can also use `weights=ResNet152_Weights.DEFAULT` to get the most up-to-date weights.\n",
            "  warnings.warn(msg)\n"
          ]
        }
      ],
      "source": [
        "# Instantiating the model\n",
        "model = models.resnet152(pretrained=True)\n",
        "\n",
        "# Freezing the entire model\n",
        "for param in model.parameters():\n",
        "  param.requires_grad = False\n",
        "\n",
        "# Modifying the final layer\n",
        "model.fc = nn.Linear(model.fc.in_features, 10)\n",
        "\n",
        "# Unfreezing the final layer\n",
        "for param in model.fc.parameters():\n",
        "  param.requires_grad = True\n",
        "\n",
        "model = model.to(device)\n",
        "\n",
        "loss_criterion = nn.CrossEntropyLoss()\n",
        "optimizer = optim.Adam(model.parameters(), lr=0.001)"
      ]
    },
    {
      "cell_type": "markdown",
      "metadata": {
        "id": "S2xi47z1q70y"
      },
      "source": [
        "We will create a function to run the training and validation loops, and plot the results."
      ]
    },
    {
      "cell_type": "code",
      "execution_count": null,
      "metadata": {
        "id": "cT__96F6rZm3"
      },
      "outputs": [],
      "source": [
        "def train_model_and_plot(model,\n",
        "                num_epochs,\n",
        "                train_loader,\n",
        "                validation_loader,\n",
        "                plot=True):\n",
        "\n",
        "  train_losses = []\n",
        "  validation_losses = []\n",
        "  validation_accuracies = []\n",
        "\n",
        "  # Running the training and validation loops\n",
        "\n",
        "  for epoch in range(num_epochs):\n",
        "\n",
        "    # Training phase\n",
        "\n",
        "    model.train()\n",
        "    train_loss = 0.0\n",
        "\n",
        "    for images, labels in train_loader:\n",
        "      images, labels = images.to(device), labels.to(device)\n",
        "      optimizer.zero_grad()\n",
        "      outputs = model(images)\n",
        "      loss = loss_criterion(outputs, labels)\n",
        "      loss.backward()\n",
        "      optimizer.step()\n",
        "      train_loss += loss.item()\n",
        "\n",
        "    # Calculating the average training loss\n",
        "    train_loss /= len(train_loader)\n",
        "\n",
        "    # Validation phase\n",
        "\n",
        "    model.eval()\n",
        "    validation_loss = 0.0\n",
        "    correct_predictions = 0\n",
        "    total_labels = 0\n",
        "\n",
        "    with torch.no_grad():\n",
        "      for images, labels in validation_loader:\n",
        "        images, labels = images.to(device), labels.to(device)\n",
        "        outputs = model(images)\n",
        "        loss = loss_criterion(outputs, labels)\n",
        "        validation_loss += loss.item()\n",
        "        _, predicted_labels = torch.max(outputs, 1)\n",
        "        correct_predictions += (predicted_labels == labels).sum().item()\n",
        "        total_labels += labels.size(0)\n",
        "\n",
        "    # Calculating the average validation loss and\n",
        "    # the average validation accuracy\n",
        "    validation_loss /= len(validation_loader)\n",
        "    validation_accuracy = 100 * (correct_predictions / total_labels)\n",
        "\n",
        "    # Storing the training loss, the validation loss,\n",
        "    # and the validation accuracy\n",
        "    train_losses.append(train_loss)\n",
        "    validation_losses.append(validation_loss)\n",
        "    validation_accuracies.append(validation_accuracy)\n",
        "\n",
        "    print(f\"Epoch {epoch + 1}/{num_epochs}\")\n",
        "    print(f\"Training Loss: {train_loss:.4f}\")\n",
        "    print(f\"Validation Loss: {validation_loss:.4f}\")\n",
        "    print(f\"Validation Accuracy: {validation_accuracy:.2f}%\")\n",
        "    print(\"\\n\")\n",
        "\n",
        "  # Creating the plots\n",
        "\n",
        "  if plot == True:\n",
        "\n",
        "    epochs = range(1, (num_epochs+1))\n",
        "\n",
        "    # Plotting the losses\n",
        "    plt.figure()\n",
        "    plt.plot(epochs, train_losses, label=\"Training Loss\")\n",
        "    plt.plot(epochs, validation_losses, label=\"Validation Loss\")\n",
        "    plt.xlabel(\"Epochs\")\n",
        "    plt.ylabel(\"Loss\")\n",
        "    plt.title(\"Training and Validation Losses versus Number of Epochs\")\n",
        "    plt.legend()\n",
        "    plt.show()\n",
        "\n",
        "    # Plotting the accuracies\n",
        "    plt.figure()\n",
        "    plt.plot(epochs, validation_accuracies, label=\"Validation Accuracy\")\n",
        "    plt.xlabel(\"Epochs\")\n",
        "    plt.ylabel(\"Accuracy/%\")\n",
        "    plt.title(\"Validation Accuracy versus Number of Epochs\")\n",
        "    plt.legend()\n",
        "    plt.show()"
      ]
    },
    {
      "cell_type": "markdown",
      "metadata": {
        "id": "lDbVw4DL3gHe"
      },
      "source": [
        "We will create a function to evaluate the model on the test data."
      ]
    },
    {
      "cell_type": "code",
      "execution_count": null,
      "metadata": {
        "id": "DNNp3vrp3mzg"
      },
      "outputs": [],
      "source": [
        "def evaluate_model(model, test_loader):\n",
        "\n",
        "  model.eval()\n",
        "  correct_predictions = 0\n",
        "  total_predictions = 0\n",
        "\n",
        "  with torch.no_grad():\n",
        "    for images, labels in test_loader:\n",
        "      images, labels = images.to(device), labels.to(device)\n",
        "      outputs = model(images)\n",
        "      _, predicted_labels = torch.max(outputs, 1)\n",
        "      correct_predictions += (predicted_labels == labels).sum().item()\n",
        "      total_predictions += labels.size(0)\n",
        "\n",
        "  test_accuracy = 100 * (correct_predictions / total_predictions)\n",
        "\n",
        "  print(f\"Test Accuracy: {test_accuracy:.2f}%\")"
      ]
    },
    {
      "cell_type": "markdown",
      "metadata": {
        "id": "Fht4wLu-6IBG"
      },
      "source": [
        "We will train the model now and plot the results."
      ]
    },
    {
      "cell_type": "code",
      "execution_count": null,
      "metadata": {
        "colab": {
          "base_uri": "https://localhost:8080/",
          "height": 1000
        },
        "id": "u6-FZ2kI6LVu",
        "outputId": "56cf07fb-c894-4214-ef07-e3f06216469c"
      },
      "outputs": [
        {
          "name": "stdout",
          "output_type": "stream",
          "text": [
            "Epoch 1/30\n",
            "Training Loss: 0.7447\n",
            "Validation Loss: 0.5387\n",
            "Validation Accuracy: 81.74%\n",
            "\n",
            "\n",
            "Epoch 2/30\n",
            "Training Loss: 0.5146\n",
            "Validation Loss: 0.5048\n",
            "Validation Accuracy: 82.84%\n",
            "\n",
            "\n",
            "Epoch 3/30\n",
            "Training Loss: 0.4813\n",
            "Validation Loss: 0.4804\n",
            "Validation Accuracy: 83.63%\n",
            "\n",
            "\n",
            "Epoch 4/30\n",
            "Training Loss: 0.4615\n",
            "Validation Loss: 0.4808\n",
            "Validation Accuracy: 83.48%\n",
            "\n",
            "\n",
            "Epoch 5/30\n",
            "Training Loss: 0.4545\n",
            "Validation Loss: 0.4726\n",
            "Validation Accuracy: 83.70%\n",
            "\n",
            "\n",
            "Epoch 6/30\n",
            "Training Loss: 0.4412\n",
            "Validation Loss: 0.4821\n",
            "Validation Accuracy: 83.81%\n",
            "\n",
            "\n",
            "Epoch 7/30\n",
            "Training Loss: 0.4302\n",
            "Validation Loss: 0.4551\n",
            "Validation Accuracy: 84.31%\n",
            "\n",
            "\n",
            "Epoch 8/30\n",
            "Training Loss: 0.4273\n",
            "Validation Loss: 0.4651\n",
            "Validation Accuracy: 83.93%\n",
            "\n",
            "\n",
            "Epoch 9/30\n",
            "Training Loss: 0.4211\n",
            "Validation Loss: 0.4675\n",
            "Validation Accuracy: 84.05%\n",
            "\n",
            "\n",
            "Epoch 10/30\n",
            "Training Loss: 0.4168\n",
            "Validation Loss: 0.4659\n",
            "Validation Accuracy: 84.10%\n",
            "\n",
            "\n",
            "Epoch 11/30\n",
            "Training Loss: 0.4055\n",
            "Validation Loss: 0.4420\n",
            "Validation Accuracy: 84.53%\n",
            "\n",
            "\n",
            "Epoch 12/30\n",
            "Training Loss: 0.4015\n",
            "Validation Loss: 0.4560\n",
            "Validation Accuracy: 84.60%\n",
            "\n",
            "\n",
            "Epoch 13/30\n",
            "Training Loss: 0.3960\n",
            "Validation Loss: 0.4463\n",
            "Validation Accuracy: 84.82%\n",
            "\n",
            "\n",
            "Epoch 14/30\n",
            "Training Loss: 0.3967\n",
            "Validation Loss: 0.4534\n",
            "Validation Accuracy: 84.61%\n",
            "\n",
            "\n",
            "Epoch 15/30\n",
            "Training Loss: 0.3908\n",
            "Validation Loss: 0.4384\n",
            "Validation Accuracy: 84.90%\n",
            "\n",
            "\n",
            "Epoch 16/30\n",
            "Training Loss: 0.3828\n",
            "Validation Loss: 0.4320\n",
            "Validation Accuracy: 85.17%\n",
            "\n",
            "\n",
            "Epoch 17/30\n",
            "Training Loss: 0.3798\n",
            "Validation Loss: 0.4499\n",
            "Validation Accuracy: 84.81%\n",
            "\n",
            "\n",
            "Epoch 18/30\n",
            "Training Loss: 0.3741\n",
            "Validation Loss: 0.4284\n",
            "Validation Accuracy: 85.19%\n",
            "\n",
            "\n",
            "Epoch 19/30\n",
            "Training Loss: 0.3738\n",
            "Validation Loss: 0.4277\n",
            "Validation Accuracy: 85.68%\n",
            "\n",
            "\n",
            "Epoch 20/30\n",
            "Training Loss: 0.3701\n",
            "Validation Loss: 0.4828\n",
            "Validation Accuracy: 83.57%\n",
            "\n",
            "\n",
            "Epoch 21/30\n",
            "Training Loss: 0.3719\n",
            "Validation Loss: 0.4396\n",
            "Validation Accuracy: 84.94%\n",
            "\n",
            "\n",
            "Epoch 22/30\n",
            "Training Loss: 0.3653\n",
            "Validation Loss: 0.4544\n",
            "Validation Accuracy: 84.65%\n",
            "\n",
            "\n",
            "Epoch 23/30\n",
            "Training Loss: 0.3612\n",
            "Validation Loss: 0.4405\n",
            "Validation Accuracy: 85.00%\n",
            "\n",
            "\n",
            "Epoch 24/30\n",
            "Training Loss: 0.3555\n",
            "Validation Loss: 0.4393\n",
            "Validation Accuracy: 85.03%\n",
            "\n",
            "\n",
            "Epoch 25/30\n",
            "Training Loss: 0.3538\n",
            "Validation Loss: 0.4493\n",
            "Validation Accuracy: 84.28%\n",
            "\n",
            "\n",
            "Epoch 26/30\n",
            "Training Loss: 0.3550\n",
            "Validation Loss: 0.4317\n",
            "Validation Accuracy: 85.46%\n",
            "\n",
            "\n",
            "Epoch 27/30\n",
            "Training Loss: 0.3543\n",
            "Validation Loss: 0.4229\n",
            "Validation Accuracy: 85.52%\n",
            "\n",
            "\n",
            "Epoch 28/30\n",
            "Training Loss: 0.3431\n",
            "Validation Loss: 0.4579\n",
            "Validation Accuracy: 84.51%\n",
            "\n",
            "\n",
            "Epoch 29/30\n",
            "Training Loss: 0.3456\n",
            "Validation Loss: 0.4238\n",
            "Validation Accuracy: 85.31%\n",
            "\n",
            "\n",
            "Epoch 30/30\n",
            "Training Loss: 0.3402\n",
            "Validation Loss: 0.4282\n",
            "Validation Accuracy: 85.21%\n",
            "\n",
            "\n"
          ]
        },
        {
          "data": {
            "image/png": "[encoded data removed]",
            "text/plain": [
              "<Figure size 640x480 with 1 Axes>"
            ]
          },
          "metadata": {},
          "output_type": "display_data"
        },
        {
          "data": {
            "image/png": "[encoded data removed]",
            "text/plain": [
              "<Figure size 640x480 with 1 Axes>"
            ]
          },
          "metadata": {},
          "output_type": "display_data"
        }
      ],
      "source": [
        "train_model_and_plot(model = model,\n",
        "        num_epochs = 30,\n",
        "        train_loader = train_loader,\n",
        "        validation_loader = validation_loader,\n",
        "        plot=True)"
      ]
    },
    {
      "cell_type": "markdown",
      "metadata": {
        "id": "nWAFpREMuaXl"
      },
      "source": [
        "Examining the plots show us that at 19 epochs, the validation loss is very close to the minimum and the validation accuracy is at a maximum. So, we can assume that 19 epochs is the optimum number of epochs to train our model for. Choosing a number of epochs where the validation loss is slightly lower and the validation accuracy very close to the maximum would also mean the training loss being much lower, e.g. at 27 epochs and 29 epochs. This makes overfitting more likely. Therefore, we will instantiate our model, optimizer, and loss criterion again, and train the model for 19 epochs before testing its accuracy on the test data."
      ]
    },
    {
      "cell_type": "code",
      "execution_count": null,
      "metadata": {
        "collapsed": true,
        "id": "FYXdMxuIu8Ey"
      },
      "outputs": [],
      "source": [
        "# Instantiating the model\n",
        "model = models.resnet152(pretrained=True)\n",
        "\n",
        "# Freezing the entire model\n",
        "for param in model.parameters():\n",
        "  param.requires_grad = False\n",
        "\n",
        "# Modifying the final layer\n",
        "model.fc = nn.Linear(model.fc.in_features, 10)\n",
        "\n",
        "# Unfreezing the final layer\n",
        "for param in model.fc.parameters():\n",
        "  param.requires_grad = True\n",
        "\n",
        "model = model.to(device)\n",
        "\n",
        "loss_criterion = nn.CrossEntropyLoss()\n",
        "optimizer = optim.Adam(model.parameters(), lr=0.001)"
      ]
    },
    {
      "cell_type": "code",
      "execution_count": null,
      "metadata": {
        "colab": {
          "base_uri": "https://localhost:8080/"
        },
        "collapsed": true,
        "id": "Th10NKCnvA4f",
        "outputId": "552e3578-6716-48d8-974b-a52dcd716711"
      },
      "outputs": [
        {
          "name": "stdout",
          "output_type": "stream",
          "text": [
            "Epoch 1/19\n",
            "Training Loss: 0.7347\n",
            "Validation Loss: 0.5307\n",
            "Validation Accuracy: 82.22%\n",
            "\n",
            "\n",
            "Epoch 2/19\n",
            "Training Loss: 0.5162\n",
            "Validation Loss: 0.4951\n",
            "Validation Accuracy: 83.05%\n",
            "\n",
            "\n",
            "Epoch 3/19\n",
            "Training Loss: 0.4831\n",
            "Validation Loss: 0.4865\n",
            "Validation Accuracy: 83.47%\n",
            "\n",
            "\n",
            "Epoch 4/19\n",
            "Training Loss: 0.4636\n",
            "Validation Loss: 0.4944\n",
            "Validation Accuracy: 83.35%\n",
            "\n",
            "\n",
            "Epoch 5/19\n",
            "Training Loss: 0.4533\n",
            "Validation Loss: 0.4825\n",
            "Validation Accuracy: 83.53%\n",
            "\n",
            "\n",
            "Epoch 6/19\n",
            "Training Loss: 0.4443\n",
            "Validation Loss: 0.4781\n",
            "Validation Accuracy: 83.44%\n",
            "\n",
            "\n",
            "Epoch 7/19\n",
            "Training Loss: 0.4338\n",
            "Validation Loss: 0.5075\n",
            "Validation Accuracy: 82.77%\n",
            "\n",
            "\n",
            "Epoch 8/19\n",
            "Training Loss: 0.4240\n",
            "Validation Loss: 0.4621\n",
            "Validation Accuracy: 84.18%\n",
            "\n",
            "\n",
            "Epoch 9/19\n",
            "Training Loss: 0.4196\n",
            "Validation Loss: 0.4847\n",
            "Validation Accuracy: 83.19%\n",
            "\n",
            "\n",
            "Epoch 10/19\n",
            "Training Loss: 0.4152\n",
            "Validation Loss: 0.4557\n",
            "Validation Accuracy: 84.64%\n",
            "\n",
            "\n",
            "Epoch 11/19\n",
            "Training Loss: 0.4047\n",
            "Validation Loss: 0.4335\n",
            "Validation Accuracy: 85.08%\n",
            "\n",
            "\n",
            "Epoch 12/19\n",
            "Training Loss: 0.4030\n",
            "Validation Loss: 0.4362\n",
            "Validation Accuracy: 85.23%\n",
            "\n",
            "\n",
            "Epoch 13/19\n",
            "Training Loss: 0.3980\n",
            "Validation Loss: 0.4343\n",
            "Validation Accuracy: 85.45%\n",
            "\n",
            "\n",
            "Epoch 14/19\n",
            "Training Loss: 0.3909\n",
            "Validation Loss: 0.4666\n",
            "Validation Accuracy: 84.04%\n",
            "\n",
            "\n",
            "Epoch 15/19\n",
            "Training Loss: 0.3858\n",
            "Validation Loss: 0.4496\n",
            "Validation Accuracy: 84.59%\n",
            "\n",
            "\n",
            "Epoch 16/19\n",
            "Training Loss: 0.3787\n",
            "Validation Loss: 0.4508\n",
            "Validation Accuracy: 84.60%\n",
            "\n",
            "\n",
            "Epoch 17/19\n",
            "Training Loss: 0.3885\n",
            "Validation Loss: 0.4472\n",
            "Validation Accuracy: 84.96%\n",
            "\n",
            "\n",
            "Epoch 18/19\n",
            "Training Loss: 0.3810\n",
            "Validation Loss: 0.4299\n",
            "Validation Accuracy: 85.52%\n",
            "\n",
            "\n",
            "Epoch 19/19\n",
            "Training Loss: 0.3697\n",
            "Validation Loss: 0.4283\n",
            "Validation Accuracy: 85.49%\n",
            "\n",
            "\n"
          ]
        }
      ],
      "source": [
        "train_model_and_plot(model = model,\n",
        "        num_epochs = 19,\n",
        "        train_loader = train_loader,\n",
        "        validation_loader = validation_loader,\n",
        "        plot=False)"
      ]
    },
    {
      "cell_type": "code",
      "execution_count": null,
      "metadata": {
        "colab": {
          "base_uri": "https://localhost:8080/"
        },
        "id": "lNhjsOD97K4z",
        "outputId": "f8eae907-66db-4674-fe2e-97759415e566"
      },
      "outputs": [
        {
          "name": "stdout",
          "output_type": "stream",
          "text": [
            "Test Accuracy: 85.50%\n"
          ]
        }
      ],
      "source": [
        "evaluate_model(model = model, test_loader = test_loader)"
      ]
    },
    {
      "cell_type": "markdown",
      "metadata": {
        "id": "S1sdvnLTvvU5"
      },
      "source": [
        "The model with no fine-tuning achieves an accuracy of 85.50% on the test set."
      ]
    },
    {
      "cell_type": "markdown",
      "metadata": {
        "id": "nC7FIjdBuNZn"
      },
      "source": [
        "## Classification with Fine-Tuning"
      ]
    },
    {
      "cell_type": "markdown",
      "metadata": {
        "id": "StPoLoH7uQA_"
      },
      "source": [
        "We will load the pre-trained ResNet-152 model and unfreeze all its layers. Then, we will modify its final layer such that it is suitable for classifying the CIFAR-10 data into 10 classes. We will then unfreeze the final layer too. We then move the model to the GPU. Finally, we instantiate the loss criterion and the optimizer."
      ]
    },
    {
      "cell_type": "code",
      "execution_count": null,
      "metadata": {
        "id": "LwakqwiWuPd4"
      },
      "outputs": [],
      "source": [
        "# Instantiating the model\n",
        "model = models.resnet152(pretrained=True)\n",
        "\n",
        "# Unfreezing the entire model\n",
        "for param in model.parameters():\n",
        "  param.requires_grad = True\n",
        "\n",
        "# Modifying the final layer\n",
        "model.fc = nn.Linear(model.fc.in_features, 10)\n",
        "\n",
        "# Unfreezing the final layer\n",
        "for param in model.fc.parameters():\n",
        "  param.requires_grad = True\n",
        "\n",
        "model = model.to(device)\n",
        "\n",
        "loss_criterion = nn.CrossEntropyLoss()\n",
        "optimizer = optim.Adam(model.parameters(), lr=0.001)"
      ]
    },
    {
      "cell_type": "markdown",
      "metadata": {
        "id": "WopFIsEQvFs3"
      },
      "source": [
        "We will train the model now and plot the results."
      ]
    },
    {
      "cell_type": "code",
      "execution_count": null,
      "metadata": {
        "colab": {
          "base_uri": "https://localhost:8080/",
          "height": 1000
        },
        "id": "NTx72Sj1vG7X",
        "outputId": "19db109c-0802-4b9b-d84e-141e37945446"
      },
      "outputs": [
        {
          "name": "stdout",
          "output_type": "stream",
          "text": [
            "Epoch 1/30\n",
            "Training Loss: 0.7234\n",
            "Validation Loss: 0.6716\n",
            "Validation Accuracy: 77.21%\n",
            "\n",
            "\n",
            "Epoch 2/30\n",
            "Training Loss: 0.3983\n",
            "Validation Loss: 0.5059\n",
            "Validation Accuracy: 83.08%\n",
            "\n",
            "\n",
            "Epoch 3/30\n",
            "Training Loss: 0.3083\n",
            "Validation Loss: 0.4711\n",
            "Validation Accuracy: 84.64%\n",
            "\n",
            "\n",
            "Epoch 4/30\n",
            "Training Loss: 0.2306\n",
            "Validation Loss: 0.4838\n",
            "Validation Accuracy: 84.90%\n",
            "\n",
            "\n",
            "Epoch 5/30\n",
            "Training Loss: 0.1769\n",
            "Validation Loss: 0.3887\n",
            "Validation Accuracy: 88.27%\n",
            "\n",
            "\n",
            "Epoch 6/30\n",
            "Training Loss: 0.1400\n",
            "Validation Loss: 0.4167\n",
            "Validation Accuracy: 87.63%\n",
            "\n",
            "\n",
            "Epoch 7/30\n",
            "Training Loss: 0.1169\n",
            "Validation Loss: 0.3575\n",
            "Validation Accuracy: 88.53%\n",
            "\n",
            "\n",
            "Epoch 8/30\n",
            "Training Loss: 0.0934\n",
            "Validation Loss: 0.4117\n",
            "Validation Accuracy: 88.47%\n",
            "\n",
            "\n",
            "Epoch 9/30\n",
            "Training Loss: 0.0916\n",
            "Validation Loss: 0.4571\n",
            "Validation Accuracy: 87.41%\n",
            "\n",
            "\n",
            "Epoch 10/30\n",
            "Training Loss: 0.0676\n",
            "Validation Loss: 0.4338\n",
            "Validation Accuracy: 88.14%\n",
            "\n",
            "\n",
            "Epoch 11/30\n",
            "Training Loss: 0.0724\n",
            "Validation Loss: 0.4572\n",
            "Validation Accuracy: 88.05%\n",
            "\n",
            "\n",
            "Epoch 12/30\n",
            "Training Loss: 0.0604\n",
            "Validation Loss: 0.3807\n",
            "Validation Accuracy: 89.60%\n",
            "\n",
            "\n",
            "Epoch 13/30\n",
            "Training Loss: 0.0522\n",
            "Validation Loss: 0.5426\n",
            "Validation Accuracy: 86.63%\n",
            "\n",
            "\n",
            "Epoch 14/30\n",
            "Training Loss: 0.0579\n",
            "Validation Loss: 0.6163\n",
            "Validation Accuracy: 85.90%\n",
            "\n",
            "\n",
            "Epoch 15/30\n",
            "Training Loss: 0.0426\n",
            "Validation Loss: 0.3739\n",
            "Validation Accuracy: 90.30%\n",
            "\n",
            "\n",
            "Epoch 16/30\n",
            "Training Loss: 0.0463\n",
            "Validation Loss: 0.4760\n",
            "Validation Accuracy: 88.89%\n",
            "\n",
            "\n",
            "Epoch 17/30\n",
            "Training Loss: 0.0413\n",
            "Validation Loss: 0.4183\n",
            "Validation Accuracy: 89.22%\n",
            "\n",
            "\n",
            "Epoch 18/30\n",
            "Training Loss: 0.0395\n",
            "Validation Loss: 0.4141\n",
            "Validation Accuracy: 90.08%\n",
            "\n",
            "\n",
            "Epoch 19/30\n",
            "Training Loss: 0.0312\n",
            "Validation Loss: 0.4336\n",
            "Validation Accuracy: 89.62%\n",
            "\n",
            "\n",
            "Epoch 20/30\n",
            "Training Loss: 0.0383\n",
            "Validation Loss: 0.4328\n",
            "Validation Accuracy: 89.78%\n",
            "\n",
            "\n",
            "Epoch 21/30\n",
            "Training Loss: 0.0297\n",
            "Validation Loss: 0.4374\n",
            "Validation Accuracy: 89.37%\n",
            "\n",
            "\n",
            "Epoch 22/30\n",
            "Training Loss: 0.0380\n",
            "Validation Loss: 0.6097\n",
            "Validation Accuracy: 87.30%\n",
            "\n",
            "\n",
            "Epoch 23/30\n",
            "Training Loss: 0.0350\n",
            "Validation Loss: 0.4441\n",
            "Validation Accuracy: 89.62%\n",
            "\n",
            "\n",
            "Epoch 24/30\n",
            "Training Loss: 0.0272\n",
            "Validation Loss: 0.4201\n",
            "Validation Accuracy: 90.42%\n",
            "\n",
            "\n",
            "Epoch 25/30\n",
            "Training Loss: 0.0315\n",
            "Validation Loss: 0.5576\n",
            "Validation Accuracy: 87.04%\n",
            "\n",
            "\n",
            "Epoch 26/30\n",
            "Training Loss: 0.0292\n",
            "Validation Loss: 0.4370\n",
            "Validation Accuracy: 89.80%\n",
            "\n",
            "\n",
            "Epoch 27/30\n",
            "Training Loss: 0.0174\n",
            "Validation Loss: 0.4397\n",
            "Validation Accuracy: 89.74%\n",
            "\n",
            "\n",
            "Epoch 28/30\n",
            "Training Loss: 0.0268\n",
            "Validation Loss: 0.5776\n",
            "Validation Accuracy: 87.79%\n",
            "\n",
            "\n",
            "Epoch 29/30\n",
            "Training Loss: 0.0377\n",
            "Validation Loss: 0.4038\n",
            "Validation Accuracy: 90.51%\n",
            "\n",
            "\n",
            "Epoch 30/30\n",
            "Training Loss: 0.0142\n",
            "Validation Loss: 0.3911\n",
            "Validation Accuracy: 91.26%\n",
            "\n",
            "\n"
          ]
        },
        {
          "data": {
            "image/png": "[encoded data removed]",
            "text/plain": [
              "<Figure size 640x480 with 1 Axes>"
            ]
          },
          "metadata": {},
          "output_type": "display_data"
        },
        {
          "data": {
            "image/png": "[encoded data removed]",
            "text/plain": [
              "<Figure size 640x480 with 1 Axes>"
            ]
          },
          "metadata": {},
          "output_type": "display_data"
        }
      ],
      "source": [
        "train_model_and_plot(model = model,\n",
        "        num_epochs = 30,\n",
        "        train_loader = train_loader,\n",
        "        validation_loader = validation_loader,\n",
        "        plot=True)"
      ]
    },
    {
      "cell_type": "markdown",
      "metadata": {
        "id": "hihfFfOKvJ4H"
      },
      "source": [
        "Examining the plots show us that at 7 epochs, the validation loss is the least and the validation accuracy is quite high. So, we can assume that 7 epochs is the optimum number of epochs to train our model for. Choosing a number of epochs where the validation loss is slightly higher and the validation accuracy at a maximum would mean choosing 30 epochs. But at 30 epochs, the training loss is the least, indicating probable overfitting. Therefore, we will instantiate our model, optimizer, and loss criterion again, and train the model for 7 epochs before testing its accuracy on the test data."
      ]
    },
    {
      "cell_type": "code",
      "execution_count": null,
      "metadata": {
        "id": "GGID1J7UvM8R"
      },
      "outputs": [],
      "source": [
        "# Instantiating the model\n",
        "model = models.resnet152(pretrained=True)\n",
        "\n",
        "# Unfreezing the entire model\n",
        "for param in model.parameters():\n",
        "  param.requires_grad = True\n",
        "\n",
        "# Modifying the final layer\n",
        "model.fc = nn.Linear(model.fc.in_features, 10)\n",
        "\n",
        "# Unfreezing the final layer\n",
        "for param in model.fc.parameters():\n",
        "  param.requires_grad = True\n",
        "\n",
        "model = model.to(device)\n",
        "\n",
        "loss_criterion = nn.CrossEntropyLoss()\n",
        "optimizer = optim.Adam(model.parameters(), lr=0.001)"
      ]
    },
    {
      "cell_type": "code",
      "execution_count": null,
      "metadata": {
        "colab": {
          "background_save": true,
          "base_uri": "https://localhost:8080/"
        },
        "id": "9v4CvCcuvVRV",
        "outputId": "87b290db-33ca-481d-c703-a79101500b3f"
      },
      "outputs": [
        {
          "name": "stdout",
          "output_type": "stream",
          "text": [
            "Epoch 1/7\n",
            "Training Loss: 0.7255\n",
            "Validation Loss: 0.7032\n",
            "Validation Accuracy: 76.92%\n",
            "\n",
            "\n",
            "Epoch 2/7\n",
            "Training Loss: 0.4174\n",
            "Validation Loss: 0.4722\n",
            "Validation Accuracy: 83.87%\n",
            "\n",
            "\n",
            "Epoch 3/7\n",
            "Training Loss: 0.3042\n",
            "Validation Loss: 0.3781\n",
            "Validation Accuracy: 86.94%\n",
            "\n",
            "\n",
            "Epoch 4/7\n",
            "Training Loss: 0.2349\n",
            "Validation Loss: 0.3736\n",
            "Validation Accuracy: 87.55%\n",
            "\n",
            "\n",
            "Epoch 5/7\n",
            "Training Loss: 0.1799\n",
            "Validation Loss: 0.4351\n",
            "Validation Accuracy: 86.38%\n",
            "\n",
            "\n",
            "Epoch 6/7\n",
            "Training Loss: 0.1601\n",
            "Validation Loss: 0.3774\n",
            "Validation Accuracy: 87.71%\n",
            "\n",
            "\n",
            "Epoch 7/7\n",
            "Training Loss: 0.1160\n",
            "Validation Loss: 0.4761\n",
            "Validation Accuracy: 85.82%\n",
            "\n",
            "\n"
          ]
        }
      ],
      "source": [
        "train_model_and_plot(model = model,\n",
        "        num_epochs = 7,\n",
        "        train_loader = train_loader,\n",
        "        validation_loader = validation_loader,\n",
        "        plot=False)"
      ]
    },
    {
      "cell_type": "code",
      "execution_count": null,
      "metadata": {
        "colab": {
          "background_save": true
        },
        "id": "zq-l284Ix_ra",
        "outputId": "4c48a576-032d-4628-f575-7b7dd30d9546"
      },
      "outputs": [
        {
          "name": "stdout",
          "output_type": "stream",
          "text": [
            "Test Accuracy: 85.83%\n"
          ]
        }
      ],
      "source": [
        "evaluate_model(model = model, test_loader = test_loader)"
      ]
    },
    {
      "cell_type": "markdown",
      "metadata": {
        "id": "BmoufSpivXhF"
      },
      "source": [
        "The model with fine-tuning achieves an accuracy of 89.01% on the test set."
      ]
    },
    {
      "cell_type": "markdown",
      "metadata": {
        "id": "O2Iqh6y7vaO3"
      },
      "source": [
        "## Results"
      ]
    },
    {
      "cell_type": "markdown",
      "metadata": {
        "id": "kIuD4mmkvcJf"
      },
      "source": [
        "The model with no fine-tuning achieved an accuracy of 85.50% on the test set while the model with fine-tuning achieved an accuracy of 85.83% on the test set, indicating that one did not perform significantly than another. To attempt to increase the accuracy of the model on the test set, we can next try to unfreeze a combination of layers, which will always include the final layer, and freeze the rest of the layers during training/ We can then repeat the training process, changing this combination everytime."
      ]
    },
    {
      "cell_type": "markdown",
      "metadata": {
        "id": "UU86EfBAv13V"
      },
      "source": [
        "## References"
      ]
    },
    {
      "cell_type": "markdown",
      "metadata": {
        "id": "Sq3PU5HNv3eK"
      },
      "source": [
        "    [1] K. He, X. Zhang, S. Ren, and J. Sun, “Deep Residual Learning for Image Recognition.” [Online]. Available: http://image-net.org/challenges/LSVRC/2015/\n",
        "\n",
        "\n",
        "    [2] A. Krizhevsky, V. Nair, G. Hinton. Accessed: Jun. 13, 2025. [Online]. Available: https://www.cs.toronto.edu/~kriz/cifar.html"
      ]
    }
  ],
  "metadata": {
    "accelerator": "GPU",
    "colab": {
      "gpuType": "A100",
      "machine_shape": "hm",
      "toc_visible": true,
      "provenance": []
    },
    "kernelspec": {
      "display_name": "Python 3",
      "name": "python3"
    },
    "language_info": {
      "name": "python"
    }
  },
  "nbformat": 4,
  "nbformat_minor": 0
}